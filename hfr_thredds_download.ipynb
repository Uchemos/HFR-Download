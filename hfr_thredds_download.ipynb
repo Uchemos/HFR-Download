{
 "cells": [
  {
   "cell_type": "code",
   "execution_count": null,
   "id": "c985b092",
   "metadata": {},
   "outputs": [],
   "source": [
    "#Uchenna Nwankwo\n",
    "#This script downloads HFR total vector data through NCEI THREDDS server\n",
    "print('wget must be installed before running the script')\n",
    "print('install wget using this command: pip install wget') "
   ]
  },
  {
   "cell_type": "code",
   "execution_count": 1,
   "id": "c4081073",
   "metadata": {},
   "outputs": [],
   "source": [
    "import calendar\n",
    "import datetime\n",
    "import wget"
   ]
  },
  {
   "cell_type": "code",
   "execution_count": 2,
   "id": "c705f268",
   "metadata": {},
   "outputs": [],
   "source": [
    "url1 = 'https://www.ncei.noaa.gov/thredds-ocean/fileServer/ndbc/hfradar/rtv/'\n",
    "lst1 = '_hfr_'\n",
    "lst2 = 'km_rtv_uwls_NDBC.nc'\n",
    "sl = '/'\n",
    "u = '_'\n",
    "z = '00'"
   ]
  },
  {
   "cell_type": "code",
   "execution_count": 3,
   "id": "c29458fe",
   "metadata": {},
   "outputs": [],
   "source": [
    "tdy = datetime.date.today()\n",
    "yr = tdy.strftime(\"%Y\")\n",
    "MM = list(range(1,13,1))\n",
    "HR = list(range(0,24,1))"
   ]
  },
  {
   "cell_type": "code",
   "execution_count": 4,
   "id": "aa978805",
   "metadata": {},
   "outputs": [],
   "source": [
    "ha = True\n",
    "while ha:\n",
    "    yyb = input('type four digits for the begin year')\n",
    "    if yyb.isdigit() and len(yyb)==4 and int(yyb)<=int(yr):\n",
    "        yyb = int(yyb)\n",
    "        ha = False\n",
    "    else: \n",
    "        print('Error: enter the correct year')"
   ]
  },
  {
   "cell_type": "code",
   "execution_count": 5,
   "id": "02937bc7",
   "metadata": {},
   "outputs": [],
   "source": [
    "ha = True\n",
    "while ha:\n",
    "    yye = input('type four digits for the end year')\n",
    "    if yye.isdigit() and len(yye)==4 and int(yye)<=int(yr):\n",
    "        yye = int(yye)\n",
    "        ha = False\n",
    "    else: \n",
    "        print('Error: enter the correct year')"
   ]
  },
  {
   "cell_type": "code",
   "execution_count": 6,
   "id": "016eae0e",
   "metadata": {},
   "outputs": [],
   "source": [
    "ha = True\n",
    "while ha:\n",
    "    mmb = input('type two digits for the begin month')\n",
    "    if len(mmb)==1:\n",
    "        mmb = '0' + mmb\n",
    "    if mmb.isdigit() and len(mmb)==2 and int(mmb) in MM:\n",
    "        mmb = int(mmb)\n",
    "        ha = False\n",
    "    else: \n",
    "        print('Error: enter the correct month')"
   ]
  },
  {
   "cell_type": "code",
   "execution_count": 7,
   "id": "bcecf72f",
   "metadata": {},
   "outputs": [],
   "source": [
    "ha = True\n",
    "while ha:\n",
    "    mme = input('type two digits for the end month')\n",
    "    if len(mme)==1:\n",
    "        mme = '0' + mme\n",
    "    if mme.isdigit() and len(mme)==2 and int(mme) in MM:\n",
    "        mme = int(mme)\n",
    "        ha = False\n",
    "    else: \n",
    "        print('Error: enter the correct month')"
   ]
  },
  {
   "cell_type": "code",
   "execution_count": 8,
   "id": "f45944ef",
   "metadata": {},
   "outputs": [],
   "source": [
    "ha = True\n",
    "Dy = calendar.monthrange(yyb, mmb)[1]\n",
    "while ha:\n",
    "    dyb = input('type two digits for the begin day')\n",
    "    if len(dyb)==1:\n",
    "        dyb = '0' + dyb\n",
    "    if dyb.isdigit() and len(dyb)==2 and int(dyb)<=Dy:\n",
    "        dyb = int(dyb)\n",
    "        ha = False\n",
    "    else: \n",
    "        print('Error: enter the correct day')"
   ]
  },
  {
   "cell_type": "code",
   "execution_count": 9,
   "id": "e679723d",
   "metadata": {},
   "outputs": [],
   "source": [
    "ha = True\n",
    "Dy = calendar.monthrange(int(yye), int(mme))[1]\n",
    "while ha:\n",
    "    dye = input('type two digits for the end day')\n",
    "    if len(dye)==1:\n",
    "        dye = '0' + dye\n",
    "    if dye.isdigit() and len(dye)==2 and int(dye)<=Dy:\n",
    "        dye = int(dye)        \n",
    "        ha = False\n",
    "    else: \n",
    "        print('Error: enter the correct day')"
   ]
  },
  {
   "cell_type": "code",
   "execution_count": 10,
   "id": "f53b67ff",
   "metadata": {},
   "outputs": [],
   "source": [
    "ha = True\n",
    "while ha:\n",
    "    hrb = input('type two digits time in 24 hour clock for the begin time')\n",
    "    if len(hrb)==1:\n",
    "        hrb = '0' + hrb\n",
    "    if hrb.isdigit() and len(hrb)==2 and int(hrb) in HR:\n",
    "        hrb = int(hrb)\n",
    "        ha = False\n",
    "    else: \n",
    "        print('Error: enter the correct hour')"
   ]
  },
  {
   "cell_type": "code",
   "execution_count": 11,
   "id": "ef91a311",
   "metadata": {},
   "outputs": [],
   "source": [
    "ha = True\n",
    "while ha:\n",
    "    hre = input('type two digits time in 24 hour clock for the end time')\n",
    "    if len(hre)==1:\n",
    "        hre = '0' + hre\n",
    "    if hre.isdigit() and len(hre)==2 and int(hre) in HR:\n",
    "        hre = int(hre)        \n",
    "        ha = False\n",
    "    else: \n",
    "        print('Error: enter the correct hour')"
   ]
  },
  {
   "cell_type": "code",
   "execution_count": 12,
   "id": "9ff8e0f6",
   "metadata": {},
   "outputs": [],
   "source": [
    "ha = True\n",
    "R = ['PRVI','USEGC','USHI','USWC']\n",
    "while ha:\n",
    "    reg = input('select region type: 0 for PRVI, 1 for USEGC, 2 for USHI and 3 for USWC')\n",
    "    if reg.isdigit() and int(reg)>=0 and int(reg)<=3:\n",
    "        Reg = R[int(reg)]\n",
    "        reg = Reg.lower()\n",
    "        ha = False\n",
    "    else: \n",
    "        print('Error: input not within range')"
   ]
  },
  {
   "cell_type": "code",
   "execution_count": 13,
   "id": "7ec4b0ed",
   "metadata": {},
   "outputs": [],
   "source": [
    "ha = True\n",
    "Res = ['1','2','6']\n",
    "while ha:\n",
    "    res = input('type spatial resolution in km type: 1, 2 or 6')\n",
    "    if res.isdigit() and len(res) and res in Res:\n",
    "        ha = False\n",
    "    else: \n",
    "        print('Error: input not within range')"
   ]
  },
  {
   "cell_type": "code",
   "execution_count": 15,
   "id": "8fe76f13",
   "metadata": {},
   "outputs": [
    {
     "name": "stdout",
     "output_type": "stream",
     "text": [
      "https://www.ncei.noaa.gov/thredds-ocean/fileServer/ndbc/hfradar/rtv/2023/202301/USEGC/202301010100_hfr_usegc_6km_rtv_uwls_NDBC.nc\n",
      "https://www.ncei.noaa.gov/thredds-ocean/fileServer/ndbc/hfradar/rtv/2023/202301/USEGC/202301010200_hfr_usegc_6km_rtv_uwls_NDBC.nc\n"
     ]
    }
   ],
   "source": [
    "start_time = datetime.datetime(yyb, mmb, dyb, hrb, 0)  # Define the starting time\n",
    "end_time = datetime.datetime(yye, mme, dye, hre, 0)  # Define the ending time\n",
    "time_interval = datetime.timedelta(hours=1)  # Define the time interval\n",
    "\n",
    "current_time = start_time\n",
    "while current_time <= end_time:\n",
    "    yy = current_time.strftime(\"%Y\")\n",
    "    mm = current_time.strftime(\"%m\")\n",
    "    dy = current_time.strftime(\"%d\")\n",
    "    hr = current_time.strftime(\"%H\")    \n",
    "    URL = url1+yy+sl+yy+mm+sl+Reg+sl+yy+mm+dy+hr+z+lst1+reg+u+res+lst2\n",
    "    wget.download(URL)\n",
    "    current_time += time_interval"
   ]
  }
 ],
 "metadata": {
  "kernelspec": {
   "display_name": "Python 3 (ipykernel)",
   "language": "python",
   "name": "python3"
  },
  "language_info": {
   "codemirror_mode": {
    "name": "ipython",
    "version": 3
   },
   "file_extension": ".py",
   "mimetype": "text/x-python",
   "name": "python",
   "nbconvert_exporter": "python",
   "pygments_lexer": "ipython3",
   "version": "3.9.13"
  }
 },
 "nbformat": 4,
 "nbformat_minor": 5
}
